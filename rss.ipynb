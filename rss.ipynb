{
 "cells": [
  {
   "cell_type": "code",
   "execution_count": 43,
   "metadata": {},
   "outputs": [],
   "source": [
    "import feedparser\n",
    "from IPython.display import Image\n",
    "\n",
    "def parse_rss(feed_url):\n",
    "    # Parse the RSS feed\n",
    "    feed = feedparser.parse(feed_url)\n",
    "\n",
    "    # Check if the feed was parsed successfully\n",
    "    if feed.status != 200:\n",
    "        print(\"Error: Failed to fetch feed.\")\n",
    "        return\n",
    "\n",
    "    # Print the feed title\n",
    "    print(f\"Feed Title: {feed.feed.title}\")\n",
    "\n",
    "    # Loop through each entry in the feed\n",
    "    for entry in feed.entries:\n",
    "        print(f\"\\nTitle: {entry.title}\")\n",
    "        print(f\"Link: {entry.link}\")\n",
    "\n",
    "        # Print the published date\n",
    "        print(f\"Published at: {entry.published}\")\n",
    "\n",
    "        # Print the language\n",
    "        print(f\"Language: {entry.content[0]['language']}\")\n",
    "\n",
    "        # Extract the image URL from entry.content\n",
    "        image_url = None\n",
    "        for content in entry.content:\n",
    "            if content['type'] == 'text/html' and 'img' in content['value']:\n",
    "                image_url = content['value'].split('<img alt=')[1].split('src=')[1].split('\"')[1]\n",
    "                break\n",
    "\n",
    "        # Display the image if available\n",
    "        if image_url:\n",
    "            display(Image(url=image_url, width=500))  # Adjust the width as needed\n",
    "\n",
    "        # Print the content\n",
    "        # print(f\"{entry.content}\")\n",
    "\n",
    "        # Uncomment the following line if you want to print summary\n",
    "        # print(f\"\\nSummary: {entry.summary}\")\n",
    "\n",
    "        # Uncomment the following line if you want to print updated date\n",
    "        print(f\"Updated at: {entry.updated}\")\n",
    "\n"
   ]
  },
  {
   "cell_type": "code",
   "execution_count": 49,
   "metadata": {},
   "outputs": [
    {
     "name": "stdout",
     "output_type": "stream",
     "text": [
      "Feed Title: The Verge -  Samsungs\n",
      "\n",
      "Title: Samsung announces new entry-level OLED TVs — likely with LG panels inside\n",
      "Link: https://www.theverge.com/2024/5/6/24150270/samsung-s85d-entry-level-oled-pricing-specs\n",
      "Published at: 2024-05-06T15:31:09-04:00\n",
      "Language: en\n"
     ]
    },
    {
     "data": {
      "text/html": [
       "<img src=\"https://cdn.vox-cdn.com/thumbor/feKiL5L5ONRXwrWsVSNdgqduQKQ=/19x0:958x626/1310x873/cdn.vox-cdn.com/uploads/chorus_image/image/73330789/s85d.0.jpg\" width=\"500\"/>"
      ],
      "text/plain": [
       "<IPython.core.display.Image object>"
      ]
     },
     "metadata": {},
     "output_type": "display_data"
    },
    {
     "name": "stdout",
     "output_type": "stream",
     "text": [
      "Updated at: 2024-05-06T15:31:09-04:00\n",
      "\n",
      "Title: Hisense is launching a $999 CanvasTV as a cheaper rival to Samsung’s Frame\n",
      "Link: https://www.theverge.com/2024/5/3/24148080/hisense-cheaper-canvastv-samsung-frame\n",
      "Published at: 2024-05-03T12:58:35-04:00\n",
      "Language: en\n"
     ]
    },
    {
     "data": {
      "text/html": [
       "<img src=\"https://cdn.vox-cdn.com/thumbor/ka-kYCIlhm7jVDVNW5oOVEg-N0s=/600x0:3840x2160/1310x873/cdn.vox-cdn.com/uploads/chorus_image/image/73325379/CanvasTV_Image.0.jpg\" width=\"500\"/>"
      ],
      "text/plain": [
       "<IPython.core.display.Image object>"
      ]
     },
     "metadata": {},
     "output_type": "display_data"
    },
    {
     "name": "stdout",
     "output_type": "stream",
     "text": [
      "Updated at: 2024-05-03T12:58:35-04:00\n",
      "\n",
      "Title: Samsung’s new glare-free OLED TV is receiving its first discount\n",
      "Link: https://www.theverge.com/2024/4/23/24138203/best-buy-samsung-oled-s95d-tv-deal-sale\n",
      "Published at: 2024-04-23T11:59:42-04:00\n",
      "Language: en\n"
     ]
    },
    {
     "data": {
      "text/html": [
       "<img src=\"https://cdn.vox-cdn.com/thumbor/6cfScmK4DJtYs4CPMDQ2oYWq74A=/0x0:2040x1360/1310x873/cdn.vox-cdn.com/uploads/chorus_image/image/73298951/DSCF6002.0.jpg\" width=\"500\"/>"
      ],
      "text/plain": [
       "<IPython.core.display.Image object>"
      ]
     },
     "metadata": {},
     "output_type": "display_data"
    },
    {
     "name": "stdout",
     "output_type": "stream",
     "text": [
      "Updated at: 2024-04-23T11:59:42-04:00\n",
      "\n",
      "Title: 8BitDo’s NES-inspired mechanical keyboard hits all-time low price\n",
      "Link: https://www.theverge.com/2024/4/18/24132948/amazon-8bitdo-retro-mechanical-keyboard-echo-buds-deal-sale\n",
      "Published at: 2024-04-18T11:13:22-04:00\n",
      "Language: en\n"
     ]
    },
    {
     "data": {
      "text/html": [
       "<img src=\"https://cdn.vox-cdn.com/thumbor/-FfnPZf6x_RhtGS3dEvfcPj1xOg=/0x0:2040x1360/1310x873/cdn.vox-cdn.com/uploads/chorus_image/image/73287734/236859_8BitDo_keyboard_BOTM_JPorter_0008.0.jpg\" width=\"500\"/>"
      ],
      "text/plain": [
       "<IPython.core.display.Image object>"
      ]
     },
     "metadata": {},
     "output_type": "display_data"
    },
    {
     "name": "stdout",
     "output_type": "stream",
     "text": [
      "Updated at: 2024-04-18T11:13:22-04:00\n",
      "\n",
      "Title: Samsung shifts executives to six-day workweeks to ‘inject a sense of crisis’\n",
      "Link: https://www.theverge.com/2024/4/18/24133854/samsung-six-day-executive-workweeks-crisis-management\n",
      "Published at: 2024-04-18T08:18:52-04:00\n",
      "Language: en\n"
     ]
    },
    {
     "data": {
      "text/html": [
       "<img src=\"https://cdn.vox-cdn.com/thumbor/wmaT04s5NIJzxkbQIfrLZ44aBz0=/0x0:2040x1360/1310x873/cdn.vox-cdn.com/uploads/chorus_image/image/73287210/acastro_STK075_02.0.jpg\" width=\"500\"/>"
      ],
      "text/plain": [
       "<IPython.core.display.Image object>"
      ]
     },
     "metadata": {},
     "output_type": "display_data"
    },
    {
     "name": "stdout",
     "output_type": "stream",
     "text": [
      "Updated at: 2024-04-18T08:18:52-04:00\n",
      "\n",
      "Title: Samsung’s art-inspired Frame TVs are up to $1,000 off right now\n",
      "Link: https://www.theverge.com/2024/4/17/24132220/samsung-frame-tv-jbl-flip-6-bluetooth-speaker-deal-sale\n",
      "Published at: 2024-04-17T12:58:24-04:00\n",
      "Language: en\n"
     ]
    },
    {
     "data": {
      "text/html": [
       "<img src=\"https://cdn.vox-cdn.com/thumbor/XePqD-y8CoA4t8vamUCUYqaq2TE=/38x0:1382x896/1310x873/cdn.vox-cdn.com/uploads/chorus_image/image/73285419/Samsung_Frame_2021.0.png\" width=\"500\"/>"
      ],
      "text/plain": [
       "<IPython.core.display.Image object>"
      ]
     },
     "metadata": {},
     "output_type": "display_data"
    },
    {
     "name": "stdout",
     "output_type": "stream",
     "text": [
      "Updated at: 2024-04-17T12:58:24-04:00\n",
      "\n",
      "Title: Galaxy AI features are coming to last-gen Samsung phones — including the S21 series\n",
      "Link: https://www.theverge.com/2024/4/12/24128914/samsung-galaxy-ai-features-s21-s22-series-phones-update\n",
      "Published at: 2024-04-12T21:18:03-04:00\n",
      "Language: en\n"
     ]
    },
    {
     "data": {
      "text/html": [
       "<img src=\"https://cdn.vox-cdn.com/thumbor/Hhw8gvTqcgxOf0gkb0kuzy3op-8=/0x0:2040x1360/1310x873/cdn.vox-cdn.com/uploads/chorus_image/image/73275655/vpavic_220201_5008_0040.0.jpg\" width=\"500\"/>"
      ],
      "text/plain": [
       "<IPython.core.display.Image object>"
      ]
     },
     "metadata": {},
     "output_type": "display_data"
    },
    {
     "name": "stdout",
     "output_type": "stream",
     "text": [
      "Updated at: 2024-04-12T21:18:03-04:00\n",
      "\n",
      "Title: Today is the last day to take advantage of Samsung’s buy one, get one free TV promo\n",
      "Link: https://www.theverge.com/2024/4/10/24125239/samsung-buy-one-get-one-tv-deal-tu690t-crystal-uhd-65-inch-sale-2024\n",
      "Published at: 2024-04-10T15:46:57-04:00\n",
      "Language: en\n"
     ]
    },
    {
     "data": {
      "text/html": [
       "<img src=\"https://cdn.vox-cdn.com/thumbor/GBL8BBKqPxtvbd0CGqTyMUgujh4=/0x0:2040x1360/1310x873/cdn.vox-cdn.com/uploads/chorus_image/image/73270073/DSCF6002.0.jpg\" width=\"500\"/>"
      ],
      "text/plain": [
       "<IPython.core.display.Image object>"
      ]
     },
     "metadata": {},
     "output_type": "display_data"
    },
    {
     "name": "stdout",
     "output_type": "stream",
     "text": [
      "Updated at: 2024-04-10T15:46:57-04:00\n",
      "\n",
      "Title: Microsoft’s Surface Laptop 5 and Intel Pro 9 are down to their lowest price to date\n",
      "Link: https://www.theverge.com/2024/4/5/24120956/microsoft-surface-laptop-5-intel-pro-9-convertible-anker-321-power-strip-deal-sale\n",
      "Published at: 2024-04-05T11:26:12-04:00\n",
      "Language: en\n"
     ]
    },
    {
     "data": {
      "text/html": [
       "<img src=\"https://cdn.vox-cdn.com/thumbor/ML8U0AxU9NQQdepoCpdqTvUlZKA=/0x0:2040x1360/1310x873/cdn.vox-cdn.com/uploads/chorus_image/image/73258182/226368_Surface_Laptop_5_AKrales_0021.0.jpg\" width=\"500\"/>"
      ],
      "text/plain": [
       "<IPython.core.display.Image object>"
      ]
     },
     "metadata": {},
     "output_type": "display_data"
    },
    {
     "name": "stdout",
     "output_type": "stream",
     "text": [
      "Updated at: 2024-04-05T11:26:12-04:00\n",
      "\n",
      "Title: How much MacBook is enough MacBook?\n",
      "Link: https://www.theverge.com/2024/4/5/24121824/macbook-air-m3-tiktok-ban-jon-stewart-ai-vergecast-podcast\n",
      "Published at: 2024-04-05T09:44:23-04:00\n",
      "Language: en\n"
     ]
    },
    {
     "data": {
      "text/html": [
       "<img src=\"https://cdn.vox-cdn.com/thumbor/qdR0emcypnjXx3M3-sBYosyAdgk=/0x0:2040x1360/1310x873/cdn.vox-cdn.com/uploads/chorus_image/image/73257832/VST_0405_Site.0.jpg\" width=\"500\"/>"
      ],
      "text/plain": [
       "<IPython.core.display.Image object>"
      ]
     },
     "metadata": {},
     "output_type": "display_data"
    },
    {
     "name": "stdout",
     "output_type": "stream",
     "text": [
      "Updated at: 2024-04-05T09:44:23-04:00\n"
     ]
    }
   ],
   "source": [
    "# RSS feed topic example, youtube, crypto etc.\n",
    "topic = \"samsung\"\n",
    "\n",
    "# RSS feed URL\n",
    "feed_url = f\"https://www.theverge.com/rss/{topic}/index.xml\"\n",
    "\n",
    "# Call the function with the feed URL\n",
    "parse_rss(feed_url)"
   ]
  },
  {
   "cell_type": "code",
   "execution_count": null,
   "metadata": {},
   "outputs": [],
   "source": []
  }
 ],
 "metadata": {
  "kernelspec": {
   "display_name": "venv",
   "language": "python",
   "name": "python3"
  },
  "language_info": {
   "codemirror_mode": {
    "name": "ipython",
    "version": 3
   },
   "file_extension": ".py",
   "mimetype": "text/x-python",
   "name": "python",
   "nbconvert_exporter": "python",
   "pygments_lexer": "ipython3",
   "version": "3.11.5"
  }
 },
 "nbformat": 4,
 "nbformat_minor": 2
}
